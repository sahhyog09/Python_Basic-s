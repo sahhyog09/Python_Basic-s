{
  "nbformat": 4,
  "nbformat_minor": 0,
  "metadata": {
    "colab": {
      "provenance": []
    },
    "kernelspec": {
      "name": "python3",
      "display_name": "Python 3"
    },
    "language_info": {
      "name": "python"
    }
  },
  "cells": [
    {
      "cell_type": "code",
      "execution_count": null,
      "metadata": {
        "id": "lwQvJ3DC6AzC"
      },
      "outputs": [],
      "source": []
    },
    {
      "cell_type": "markdown",
      "source": [
        "#Theory Questions\n"
      ],
      "metadata": {
        "id": "CA8xgeUI6Hyl"
      }
    },
    {
      "cell_type": "code",
      "source": [
        "Theory=\"\"\"1. What is Python, and why is it popular?\n",
        "Python is a high-level, interpreted programming language known for its simplicity, readability, and vast libraries.\n",
        "\n",
        "2. What is an interpreter in Python?\n",
        "The interpreter executes Python code line by line, converting it into machine code for execution.\n",
        "\n",
        "3. What are pre-defined keywords in Python?\n",
        "Keywords are reserved words in Python like if, for, while, def, and return.\n",
        "\n",
        "4. Can keywords be used as variable names?\n",
        "No, keywords cannot be used as variable names as they have predefined meanings.\n",
        "\n",
        "5. What is mutability in Python?\n",
        "Mutability refers to whether an object’s value can be changed after creation.\n",
        "\n",
        "6. Why are lists mutable, but tuples are immutable?\n",
        "Lists allow modifications (add/remove elements), whereas tuples remain unchanged after creation.\n",
        "\n",
        "7. What is the difference between == and is operators in Python?\n",
        "== checks for value equality, while is checks for object identity (memory location).\n",
        "\n",
        "8. What are logical operators in Python?\n",
        "and, or, not – used to combine multiple conditions in expressions.\n",
        "\n",
        "9. What is type casting in Python?\n",
        "Converting one data type into another, like int(\"10\") or float(5).\n",
        "\n",
        "10. What is the difference between implicit and explicit type casting?\n",
        "Implicit: Python automatically converts (int to float).\n",
        "Explicit: Manual conversion using int(), float(), etc.\n",
        "\n",
        "11. What is the purpose of conditional statements in Python?\n",
        "They control the flow of execution based on conditions (if, elif, else).\n",
        "\n",
        "12. How does the elif statement work?\n",
        "elif checks multiple conditions after if; if one condition is met, others are skipped.\n",
        "\n",
        "13. What is the difference between for and while loops?\n",
        "for is used for known iterations, while runs until a condition is met.\n",
        "\n",
        "14. Describe a scenario where a while loop is more suitable than a for loop.\n",
        "A while loop is better when the number of iterations is unknown, like waiting for user input.\n",
        "\"\"\""
      ],
      "metadata": {
        "id": "EvmWkMyG6La0"
      },
      "execution_count": null,
      "outputs": []
    },
    {
      "cell_type": "code",
      "source": [
        "print(Theory)"
      ],
      "metadata": {
        "id": "o9t7tmsI66y1"
      },
      "execution_count": null,
      "outputs": []
    },
    {
      "cell_type": "markdown",
      "source": [
        "#Practical Questions"
      ],
      "metadata": {
        "id": "VLGubiGy7J1y"
      }
    },
    {
      "cell_type": "code",
      "source": [
        "#Write a Python program to print \"Hello, World!_\n",
        "a = 'Hello, World!'\n",
        "print (a)"
      ],
      "metadata": {
        "id": "bABqaOGy7OEy"
      },
      "execution_count": null,
      "outputs": []
    },
    {
      "cell_type": "code",
      "source": [
        "#Write a Python program that displays your name and age\n",
        "name = input('Enter your name:  ')\n",
        "age = int(input('Enter your Age : '))"
      ],
      "metadata": {
        "id": "DfYd2nVh81Up",
        "colab": {
          "base_uri": "https://localhost:8080/"
        },
        "outputId": "89dab0e1-c595-471f-b1b7-184f04de213b"
      },
      "execution_count": null,
      "outputs": [
        {
          "name": "stdout",
          "output_type": "stream",
          "text": [
            "Enter your name:  Sahyog\n"
          ]
        }
      ]
    },
    {
      "cell_type": "code",
      "source": [
        "# Print all Python pre-defined keywords\n",
        "import keyword\n",
        "#print (keyword.kwlist)\n",
        "for kw in keyword.kwlist:\n",
        "  print(kw)\n"
      ],
      "metadata": {
        "id": "G-04RCTFn2lI"
      },
      "execution_count": null,
      "outputs": []
    },
    {
      "cell_type": "code",
      "source": [
        "#Write a program that checks if a given word is a Python keyword\n",
        "words= input(\"enter the words\")\n",
        "if keyword.iskeyword(words):\n",
        "  print(\"is the words in the python keyword\")\n",
        "else:\n",
        "  print(\"this not a python keyword\")\n"
      ],
      "metadata": {
        "id": "8WBadA3BnmEr"
      },
      "execution_count": null,
      "outputs": []
    },
    {
      "cell_type": "code",
      "source": [
        "#Create a list and tuple in Python, and demonstrate how attempting to change an element works differently\n",
        "t1= (1,2,3,4,5)\n",
        "print (t1)\n",
        "\n",
        "#List\n",
        "\n",
        "l1= [1,2,3,4,5]\n",
        "print (l1)\n",
        "\n",
        "l1.append(7)\n",
        "print(l1)\n",
        "l1.append(8)\n",
        "print(l1)"
      ],
      "metadata": {
        "id": "yy8plyoyqGCj"
      },
      "execution_count": null,
      "outputs": []
    },
    {
      "cell_type": "code",
      "source": [
        "#Write a program to demonstrate the use of logical operators\n",
        "a =int(input(\"enter the number\"))\n",
        "b= int(input(\"enter the number\"))\n",
        "print(\"logical operators\")\n",
        "print(a>b and a<b)\n",
        "print(a>b or a<b)\n",
        "print(not(a>b))\n",
        "print(not(a<b))\n",
        "print(a==b)\n",
        "print(a!=b)\n",
        "print(a>=b)\n",
        "print(a<=b)"
      ],
      "metadata": {
        "id": "-2CKCYhvtpZH"
      },
      "execution_count": null,
      "outputs": []
    },
    {
      "cell_type": "code",
      "source": [
        "#Write a Python program to convert user input from string to integer, float, and boolean types\n",
        "user_input= [\"10\", \"20\", 30, \"40\", \"50\"]\n",
        "user_input_int = []\n",
        "user_input_float = []\n",
        "for item in user_input:\n",
        "  try:\n",
        "    user_input_int.append(int(item))\n",
        "  except ValueError:\n",
        "    pass\n",
        "  try:\n",
        "    user_input_float.append(float(item))\n",
        "  except ValueError:\n",
        "    pass\n",
        "print(user_input_int)\n",
        "print(user_input_float)\n",
        "\n"
      ],
      "metadata": {
        "id": "TB_gbYpQ7H5l"
      },
      "execution_count": null,
      "outputs": []
    },
    {
      "cell_type": "code",
      "source": [
        "#Write code to demonstrate type casting with list elements\n",
        "\n",
        "original_list = [\"10\", \"20\", 30, \"40\", \"50\"]\n",
        "print(original_list)\n",
        "\n",
        "float_list =[]\n",
        "int_list = []\n",
        "\n",
        "for items in original_list:\n",
        "  try:\n",
        "    float_list.append(float(items))\n",
        "  except ValueError:None\n",
        "\n",
        "  try:\n",
        "    int_list.append(int(items))\n",
        "  except ValueError:None\n",
        "print(float_list)\n",
        "print(int_list)\n",
        "\n"
      ],
      "metadata": {
        "id": "iDVGA9J6eddK",
        "colab": {
          "base_uri": "https://localhost:8080/"
        },
        "outputId": "ef16f525-9eb9-41e2-ab6a-e95cbea2d077"
      },
      "execution_count": 5,
      "outputs": [
        {
          "output_type": "stream",
          "name": "stdout",
          "text": [
            "['10', '20', 30, '40', '50']\n",
            "[10.0, 20.0, 30.0, 40.0, 50.0]\n",
            "[10, 20, 30, 40, 50]\n"
          ]
        }
      ]
    },
    {
      "cell_type": "code",
      "source": [
        "#Write a program that checks if a number is positive, negative, or zero\n",
        "\n",
        "user_input = int(input(\"enter the number\"))\n",
        "if user_input >0:\n",
        "  print(\"the number is positive\")\n",
        "elif user_input<0:\n",
        "  print(\"the number is negative\")\n",
        "else:\n",
        "  print(\"the number is zero\")"
      ],
      "metadata": {
        "colab": {
          "base_uri": "https://localhost:8080/"
        },
        "id": "j3WA_HCk8wSN",
        "outputId": "86007fec-25d4-49e0-e63b-1619e86d5912"
      },
      "execution_count": 7,
      "outputs": [
        {
          "output_type": "stream",
          "name": "stdout",
          "text": [
            "enter the number-1\n",
            "the number is negative\n"
          ]
        }
      ]
    },
    {
      "cell_type": "code",
      "source": [
        "from re import I\n",
        "#Write a for loop to print numbers from 1 to 10\n",
        "\n",
        "num = range(1, 11)\n",
        "for i in num:\n",
        "  print(i)"
      ],
      "metadata": {
        "colab": {
          "base_uri": "https://localhost:8080/"
        },
        "id": "rNQYlQe898YD",
        "outputId": "f64f8773-83c6-4669-d9d4-970f345ed341"
      },
      "execution_count": 11,
      "outputs": [
        {
          "output_type": "stream",
          "name": "stdout",
          "text": [
            "1\n",
            "2\n",
            "3\n",
            "4\n",
            "5\n",
            "6\n",
            "7\n",
            "8\n",
            "9\n",
            "10\n"
          ]
        }
      ]
    },
    {
      "cell_type": "code",
      "source": [
        "# Write a Python program to calculate the factorial of a number provided by the user using a while loop\n",
        "num = int(input(\"Enter a number:\"))\n",
        "fact = 1\n",
        "i = num\n",
        "\n",
        "while i>0:\n",
        "  fact *= i\n",
        "  i -= 1\n",
        "\n",
        "print(\"Factorial of\", num, \"is\", fact)"
      ],
      "metadata": {
        "colab": {
          "base_uri": "https://localhost:8080/"
        },
        "id": "cLft0WI-ITdj",
        "outputId": "137e178f-001a-4ddb-ed7d-67b65b213564"
      },
      "execution_count": 1,
      "outputs": [
        {
          "output_type": "stream",
          "name": "stdout",
          "text": [
            "Enter a number:3\n",
            "Factorial of 3 is 6\n"
          ]
        }
      ]
    },
    {
      "cell_type": "code",
      "source": [
        "#Write a Python program to find the sum of all even numbers between 1 and 50\n",
        "num= sum(range(0, 51, 2))\n",
        "print(\"even number is: \", num)"
      ],
      "metadata": {
        "colab": {
          "base_uri": "https://localhost:8080/"
        },
        "id": "CLJMtG9KqARM",
        "outputId": "180be6f6-97ee-4651-a2bc-35ff22e6d4e0"
      },
      "execution_count": 3,
      "outputs": [
        {
          "output_type": "stream",
          "name": "stdout",
          "text": [
            "even number is:  650\n"
          ]
        }
      ]
    },
    {
      "cell_type": "code",
      "source": [
        "def demonstrate_mutable_immutable(mutable_list, immutable_var):\n",
        "\n",
        "    mutable_list.append(1000)\n",
        "\n",
        "\n",
        "    immutable_var += 40\n",
        "    print(\"Inside function:\")\n",
        "    print(\"Mutable List:\", mutable_list)\n",
        "    print(\"Immutable Variable:\", immutable_var)\n",
        "\n",
        "# Initialize arguments\n",
        "my_list = [1, 2, 3]\n",
        "my_number = 500.0\n",
        "\n",
        "\n",
        "demonstrate_mutable_immutable(my_list, my_number)\n",
        "\n",
        "print(\"\\nOutside function:\")\n",
        "print(\"Mutable List:\", my_list)\n",
        "print(\"Immutable Variable:\", my_number)"
      ],
      "metadata": {
        "colab": {
          "base_uri": "https://localhost:8080/"
        },
        "id": "6QVviizLqslU",
        "outputId": "1917ec2a-e4c6-4fed-a77c-eebb41ffc1fa"
      },
      "execution_count": 4,
      "outputs": [
        {
          "output_type": "stream",
          "name": "stdout",
          "text": [
            "Inside function:\n",
            "Mutable List: [1, 2, 3, 1000]\n",
            "Immutable Variable: 540.0\n",
            "\n",
            "Outside function:\n",
            "Mutable List: [1, 2, 3, 1000]\n",
            "Immutable Variable: 500.0\n"
          ]
        }
      ]
    },
    {
      "cell_type": "code",
      "source": [
        "#Write a program to reverse a string using a while loop\n",
        "text = input(\"Enter a string:\")\n",
        "rev = \"\"\n",
        "i = len(text) - 1\n",
        "\n",
        "while i>= 0:\n",
        "  rev += text[i]\n",
        "  i -= 1\n",
        "\n",
        "print(\"Reversed strings:\", rev)"
      ],
      "metadata": {
        "colab": {
          "base_uri": "https://localhost:8080/"
        },
        "id": "NPxJLSvNKcuh",
        "outputId": "25a95d9a-569c-423a-83d7-4a0aa4393f76"
      },
      "execution_count": 24,
      "outputs": [
        {
          "output_type": "stream",
          "name": "stdout",
          "text": [
            "Enter a string:omkar\n",
            "Reversed strings: rakmo\n"
          ]
        }
      ]
    }
  ]
}